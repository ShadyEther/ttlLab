{
 "cells": [
  {
   "cell_type": "markdown",
   "metadata": {},
   "source": [
    "day 2 codes\n",
    "Functions"
   ]
  },
  {
   "cell_type": "markdown",
   "metadata": {},
   "source": [
    " q3"
   ]
  },
  {
   "cell_type": "code",
   "execution_count": 7,
   "metadata": {},
   "outputs": [
    {
     "name": "stdout",
     "output_type": "stream",
     "text": [
      "3\n",
      "-1\n",
      "12\n",
      "3\n",
      "2.0\n"
     ]
    }
   ],
   "source": [
    "def add(x,y):\n",
    "    return x+y\n",
    "\n",
    "def sub(x,y):\n",
    "    return x-y\n",
    "\n",
    "def multiply(x,y=1):\n",
    "    return x*y\n",
    "\n",
    "def divide(*x,**y): \n",
    "\n",
    "    if y['y']!=0:\n",
    "        return x[0]/y['y']\n",
    "    else:\n",
    "        return \"Err: Divide by zero\"\n",
    "\n",
    "\n",
    "n1=3\n",
    "n2=4\n",
    "\n",
    "print(add(1,2))\n",
    "print(sub(n1,n2))\n",
    "print(multiply(x=n1,y=n2))\n",
    "print(multiply(x=n1))\n",
    "print(divide(6,y=3))\n",
    "\n"
   ]
  },
  {
   "cell_type": "markdown",
   "metadata": {},
   "source": [
    "q4"
   ]
  },
  {
   "cell_type": "code",
   "execution_count": 8,
   "metadata": {},
   "outputs": [
    {
     "name": "stdout",
     "output_type": "stream",
     "text": [
      "[2, 4, 6, 8]\n",
      "[1, 4, 9, 16, 25, 36, 49, 64, 81]\n",
      "[9, 8, 7, 6, 5, 4, 3, 2, 1]\n"
     ]
    }
   ],
   "source": [
    "add=lambda x,y: x+y\n",
    "sub=lambda x,y: x-y\n",
    "mul=lambda x,y: x*y\n",
    "div=lambda x,y: x/y if y!=0 else \"Err: Divide by zero\"\n",
    "\n",
    "list1=list(range(1,10))\n",
    "print (list(filter(lambda x:x%2==0,list1)))\n",
    "\n",
    "print(list(map(lambda x:x**2,list1)))\n",
    "\n",
    "print(sorted(list1,key=lambda x:-x))\n",
    "\n"
   ]
  },
  {
   "cell_type": "markdown",
   "metadata": {},
   "source": [
    "q5"
   ]
  },
  {
   "cell_type": "code",
   "execution_count": 9,
   "metadata": {},
   "outputs": [
    {
     "name": "stdout",
     "output_type": "stream",
     "text": [
      "Input num:  696969\n",
      "Palindrome?  False\n",
      "Nelson?  False\n",
      "Perfect?  False\n",
      "Prime?  False\n"
     ]
    }
   ],
   "source": [
    "# palindrome chck using func\n",
    "# Nelson number chck: 222 \n",
    "# Perfect check using func\n",
    "# Prime check usign func\n",
    "\n",
    "def palin_check(num):\n",
    "    m=num\n",
    "    rev=0\n",
    "    while m>0:\n",
    "        rev=(rev*10)+(m%10)\n",
    "        m=m//10\n",
    "    return rev==num\n",
    "\n",
    "def nelson_check(num):\n",
    "    str_num=str(num)\n",
    "    for _ in str_num:\n",
    "        if _!=str_num[0]:\n",
    "            return False\n",
    "    \n",
    "    return True\n",
    "\n",
    "# print(nelson_check(11111112))\n",
    "\n",
    "def isPerfect( n ):\n",
    "\tsum = 0\n",
    "\ti = 1\n",
    "\twhile i < n:\n",
    "\t\tif n % i == 0:\n",
    "\t\t\tsum = sum + i\n",
    "\t\ti += 1\n",
    "\treturn (True if sum == n and n!=1 else False)\n",
    "\n",
    "def prime_check(n):\n",
    "    for i in range(2,int(num/2)):\n",
    "        if n%i==0:\n",
    "            return False\n",
    "    return True\n",
    "\n",
    "num=int(input(\"Num= \"))\n",
    "print(\"Input num: \",num)\n",
    "print(\"Palindrome? \",palin_check(num))\n",
    "print(\"Nelson? \",nelson_check(num))\n",
    "print(\"Perfect? \",isPerfect(num))\n",
    "print(\"Prime? \",prime_check(num))"
   ]
  }
 ],
 "metadata": {
  "kernelspec": {
   "display_name": "Python 3 (ipykernel)",
   "language": "python",
   "name": "python3"
  },
  "language_info": {
   "codemirror_mode": {
    "name": "ipython",
    "version": 3
   },
   "file_extension": ".py",
   "mimetype": "text/x-python",
   "name": "python",
   "nbconvert_exporter": "python",
   "pygments_lexer": "ipython3",
   "version": "3.11.3"
  }
 },
 "nbformat": 4,
 "nbformat_minor": 2
}
